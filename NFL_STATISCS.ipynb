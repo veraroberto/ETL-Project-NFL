{
 "cells": [
  {
   "cell_type": "code",
   "execution_count": null,
   "metadata": {},
   "outputs": [],
   "source": [
    "import pandas as pd\n",
    "# Dependencies\n",
    "# ----------------------------------\n",
    "# Imports the method used for connecting to DBs\n",
    "from sqlalchemy import create_engine\n",
    "\n",
    "# Imports the methods needed to abstract classes into tables\n",
    "from sqlalchemy.ext.declarative import declarative_base\n",
    "\n",
    "# Allow us to declare column types\n",
    "from sqlalchemy import Column, Integer, String, Float "
   ]
  },
  {
   "cell_type": "code",
   "execution_count": null,
   "metadata": {},
   "outputs": [],
   "source": [
    "passing = 'NFL_STATISCS/Career_Stats_Passing.csv'\n",
    "reciving = 'NFL_STATISCS/Career_Stats_Receiving.csv'\n",
    "rushing = 'NFL_STATISCS/Career_Stats_Rushing.csv'\n",
    "qb = 'NFL_STATISCS/Game_Logs_Quarterback.csv'\n",
    "basic = 'NFL_STATISCS/Basic_Stats.csv'\n",
    "runnungBack = 'NFL_STATISCS/Game_Logs_Runningback.csv'\n",
    "receiver = 'NFL_STATISCS/Game_Logs_Wide_Receiver_and_Tight_End.csv'"
   ]
  },
  {
   "cell_type": "code",
   "execution_count": null,
   "metadata": {},
   "outputs": [],
   "source": [
    "#passing_df = pd.read_csv(file_passing)\n",
    "#passing_df.loc[passing_df['Player Id']=='billdemory/2512778',:]"
   ]
  },
  {
   "cell_type": "code",
   "execution_count": null,
   "metadata": {},
   "outputs": [],
   "source": [
    "# Create all the DataFrames\n",
    "qb_df = pd.read_csv(qb)             # Len = 40,247\n",
    "runnungBack_df = pd.read_csv(runnungBack) #Len = 67,661   nan, 'RB', 'FB'    #11,626 That Contain Position \n",
    "receiver_df = pd.read_csv(receiver)       #Len 112,632    nan, 'WR', 'TE',   # 24,786 That Contain Position \n",
    "\n",
    "\n",
    "passing_df = pd.read_csv(passing) # Len = 8,525 First Year = 1924\n",
    "rushing_df = pd.read_csv(rushing) # Len = 17,507 First Year = 1924\n",
    "reciving_df = pd.read_csv(reciving) #Len = 18,128\n",
    "basic_df = pd.read_csv(basic)       #Len = 17,172\n",
    "\n"
   ]
  },
  {
   "cell_type": "code",
   "execution_count": null,
   "metadata": {},
   "outputs": [],
   "source": []
  },
  {
   "cell_type": "code",
   "execution_count": null,
   "metadata": {},
   "outputs": [],
   "source": [
    "#Cleaning the QB Data Frame\n",
    "\n",
    "qb_df['Position'] = qb_df['Position'].fillna('QB')\n",
    "\n",
    "qb_clean_df = qb_df.loc[(qb_df['Season']=='Regular Season') | (qb_df['Season']=='Postseason'),:].replace('--',0)\n",
    "qb_clean_df\n",
    "\n",
    "qb_clean_df = qb_clean_df.rename(columns = {'Player Id': 'Player_id',\n",
    "                                           'Games Played':'Games_Played',\n",
    "                                          'Games Started':'Games_Started',\n",
    "                                            'Passes Completed' :'Passes_Completed',\n",
    "                                            'Passes Attempted':'Passes_Attempted'})\n",
    "\n",
    "\n",
    "columns = ['Player_id', 'Name', 'Position','Year', 'Season', 'Games_Played', \n",
    "           'Games_Started', 'Passes_Completed', 'Passes_Attempted']\n",
    "qb_clean_df = qb_clean_df.reset_index(drop= True)\n",
    "qb_df_sql = qb_clean_df.loc[:,columns]\n",
    "\n",
    "qb_df_sql"
   ]
  },
  {
   "cell_type": "code",
   "execution_count": null,
   "metadata": {},
   "outputs": [],
   "source": [
    "#DATA FRAME THAT contains unique players\n",
    "\n",
    "qb_id = qb_df_sql['Player_id'].unique()\n",
    "qb_name = qb_df_sql['Name'].unique()\n",
    "\n",
    "#qb_id_name = pd.DataFrame(qb_id,qb_name, columns  = ['Player_id','Player_id'])\n",
    "qb_id_name = pd.DataFrame({'Player_id': qb_id, 'Name' : qb_name})#, columns  = ['Player_id','Player_id'])\n",
    "qb_id_name\n"
   ]
  },
  {
   "cell_type": "code",
   "execution_count": null,
   "metadata": {},
   "outputs": [],
   "source": [
    "\n",
    "    "
   ]
  },
  {
   "cell_type": "code",
   "execution_count": null,
   "metadata": {},
   "outputs": [],
   "source": [
    "# Cleaning RB Data Frame UNIQUE QB AND NANMES\n",
    "\n",
    "rb_df = runnungBack_df.loc[(runnungBack_df['Position']== 'RB') | (runnungBack_df['Position']== 'FB'),:]\n",
    "rb_df\n",
    "runnungBack_clean_df = rb_df.loc[(rb_df['Season']=='Regular Season') | (rb_df['Season']=='Postseason'),:].reset_index(drop=True)\n",
    "runnungBack_clean_df"
   ]
  },
  {
   "cell_type": "code",
   "execution_count": null,
   "metadata": {},
   "outputs": [],
   "source": [
    "#receiver_df = pd.read_csv(receiver)       #Len 112,632    nan, 'WR', 'TE',   # 24,786 That Contain Position \n",
    "\n",
    "\n",
    "rec_df = receiver_df.loc[(receiver_df['Position']== 'WR') | (receiver_df['Position']== 'TE'),:]\n",
    "rec_df\n",
    "receiver_clean_df = rec_df.loc[(rec_df['Season']=='Regular Season') | (rec_df['Season']=='Postseason'),:].reset_index(drop=True)\n",
    "receiver_clean_df\n"
   ]
  },
  {
   "cell_type": "code",
   "execution_count": null,
   "metadata": {},
   "outputs": [],
   "source": []
  },
  {
   "cell_type": "code",
   "execution_count": null,
   "metadata": {},
   "outputs": [],
   "source": [
    "conn_string = 'postgres:postgres@localhost:5432/NFL_Statistics'\n",
    "engine = create_engine(f'postgresql://{conn_string}')\n",
    "Base = declarative_base()"
   ]
  },
  {
   "cell_type": "code",
   "execution_count": null,
   "metadata": {},
   "outputs": [],
   "source": [
    "class QB_NAMES(Base):\n",
    "    __tablename__ = 'QB_NAMES'\n",
    "    Player_id = Column(String,primary_key = True)\n",
    "    Name = Column(String)"
   ]
  },
  {
   "cell_type": "raw",
   "metadata": {},
   "source": [
    "# Define our QB table\n",
    "class QB(Base):\n",
    "    __tablename__ = 'QB'\n",
    "    Player_id = Column(String, primary_key = False)\n",
    "    Name = Column(String)\n",
    "    Position = Column(String)\n",
    "    Year = Column(Integer)\n",
    "    Season = Column(String)\n",
    "    Games_Played = Column(Integer)\n",
    "    Games_Started = Column(Integer)\n",
    "    Passes_Completed = Column(Integer)\n",
    "    Passes_Attempted = Column(Integer)\n",
    "     #  'Games Started', 'Passes Completed', 'Passes Attempted',\n",
    "      # 'Completion Percentage', 'Passing Yards', 'Passing Yards Per Attempt',\n",
    "       #'TD Passes', 'Ints', 'Sacks', 'Sacked Yards Lost', 'Passer Rating',\n",
    "       #'Rushing Attempts', 'Rushing Yards', 'Yards Per Carry', 'Rushing TDs',\n",
    "       #'Fumbles', 'Fumbles Lost']"
   ]
  },
  {
   "cell_type": "code",
   "execution_count": null,
   "metadata": {},
   "outputs": [],
   "source": []
  },
  {
   "cell_type": "markdown",
   "metadata": {},
   "source": [
    "class RB(Base):\n",
    "    __tablename__ = 'RB'\n",
    "    Player_id = Column(String, primary_key = True)\n",
    "    name = Column(String)\n",
    "    Position = Column(String)\n",
    "    Year = Column(Integer)\n",
    "    Season = Column(String)\n",
    "    Games_Played = Column(Integer)\n",
    "    Games_Started = Column(Integer)\n",
    "    Rushing_Yards = Column(Integer)\n",
    "    Rushing_Attempts = Column(Integer)"
   ]
  },
  {
   "cell_type": "code",
   "execution_count": null,
   "metadata": {},
   "outputs": [],
   "source": []
  },
  {
   "cell_type": "raw",
   "metadata": {},
   "source": [
    "class RECEIVER(Base):\n",
    "    __tablename__ = 'RECEIVER'\n",
    "    Player_id = Column(String,primary_key = True)\n",
    "    name = Column(String)\n",
    "    Position = Column(String)\n",
    "    Year = Column(Integer)\n",
    "    Season = Column(String)\n",
    "    Games_Played = Column(Integer)\n",
    "    Games_Started = Column(Integer)\n",
    "    Receptions = Column(Integer)\n",
    "    Receiving_Yards = Column(Integer)"
   ]
  },
  {
   "cell_type": "code",
   "execution_count": null,
   "metadata": {},
   "outputs": [],
   "source": [
    "Base.metadata.tables"
   ]
  },
  {
   "cell_type": "code",
   "execution_count": null,
   "metadata": {},
   "outputs": [],
   "source": [
    "# This is where we create our tables in the database\n",
    "Base.metadata.create_all(engine)"
   ]
  },
  {
   "cell_type": "code",
   "execution_count": null,
   "metadata": {},
   "outputs": [],
   "source": [
    "from sqlalchemy.orm import Session\n",
    "session = Session(engine)"
   ]
  },
  {
   "cell_type": "code",
   "execution_count": null,
   "metadata": {},
   "outputs": [],
   "source": []
  },
  {
   "cell_type": "raw",
   "metadata": {},
   "source": [
    "\n",
    "session.add(QB(Player_id='billdemory/2512778',\n",
    "               name='Demory, Bill', \n",
    "               Position='QB',\n",
    "               Year = 1974,\n",
    "               Season = 'Regular Season'\n",
    "               #Games_Played = ''\n",
    "               #Games_Started\n",
    "               #Passes_Completed\n",
    "               #Passes_Attempted              \n",
    "              ))\n",
    "\n",
    "\n",
    "\n",
    "\n",
    "\n",
    "\n",
    "    #Player_id = Column(String, primary_key=True)\n",
    "    #name = Column(String)\n",
    "    #Position = Column(String)\n",
    "    #Year = Column(Integer)\n",
    "    #Season = Column(String)\n",
    "    #Games_Played = Column(Integer)\n",
    "    #Games_Started = Column(Integer)\n",
    "    #Passes_Completed = Column(Integer)\n",
    "    #Passes_Attempted = Column(Integer)"
   ]
  },
  {
   "cell_type": "code",
   "execution_count": null,
   "metadata": {},
   "outputs": [],
   "source": [
    "pd.read_sql('SELECT * FROM \"QB_NAMES\"', engine)\n"
   ]
  },
  {
   "cell_type": "code",
   "execution_count": null,
   "metadata": {},
   "outputs": [],
   "source": [
    "session.new"
   ]
  },
  {
   "cell_type": "code",
   "execution_count": null,
   "metadata": {},
   "outputs": [],
   "source": [
    "#QB_NAMES\n",
    "qb_id_name.to_sql(name=\"QB_NAMES\",con=engine,if_exists='replace', index=False)"
   ]
  },
  {
   "cell_type": "code",
   "execution_count": null,
   "metadata": {},
   "outputs": [],
   "source": [
    "qb_id_name"
   ]
  },
  {
   "cell_type": "code",
   "execution_count": null,
   "metadata": {},
   "outputs": [],
   "source": [
    "\n",
    "session.close()"
   ]
  },
  {
   "cell_type": "code",
   "execution_count": null,
   "metadata": {},
   "outputs": [],
   "source": []
  }
 ],
 "metadata": {
  "kernelspec": {
   "display_name": "Python [conda env:PythonData] *",
   "language": "python",
   "name": "conda-env-PythonData-py"
  },
  "language_info": {
   "codemirror_mode": {
    "name": "ipython",
    "version": 3
   },
   "file_extension": ".py",
   "mimetype": "text/x-python",
   "name": "python",
   "nbconvert_exporter": "python",
   "pygments_lexer": "ipython3",
   "version": "3.6.10"
  }
 },
 "nbformat": 4,
 "nbformat_minor": 4
}
